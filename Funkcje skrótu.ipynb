{
 "cells": [
  {
   "cell_type": "code",
   "execution_count": 1,
   "id": "18843305-f111-4637-a32e-0468dfa8669b",
   "metadata": {},
   "outputs": [],
   "source": [
    "import hashlib\n",
    "import binascii"
   ]
  },
  {
   "cell_type": "markdown",
   "id": "b5182ed6-baf1-415d-bc26-6b2426b89c4e",
   "metadata": {},
   "source": [
    "# Zad 1"
   ]
  },
  {
   "cell_type": "code",
   "execution_count": 2,
   "id": "5aa039fd-f2c5-4a25-a6f9-c2ff4cd8f5bf",
   "metadata": {},
   "outputs": [],
   "source": [
    "msg = \"Kot\".encode('utf8')"
   ]
  },
  {
   "cell_type": "markdown",
   "id": "b892e27d-d4dc-46e8-8ab9-0d17d8422724",
   "metadata": {},
   "source": [
    "## MD5"
   ]
  },
  {
   "cell_type": "code",
   "execution_count": 3,
   "id": "9e4e7c1a-47a9-478f-be76-221412932f50",
   "metadata": {},
   "outputs": [
    {
     "data": {
      "text/plain": [
       "b'c0d03d2d3e717da54ffdfc8a76c0f089'"
      ]
     },
     "execution_count": 3,
     "metadata": {},
     "output_type": "execute_result"
    }
   ],
   "source": [
    "binascii.hexlify(hashlib.md5(msg).digest())"
   ]
  },
  {
   "cell_type": "markdown",
   "id": "289957ac-87dc-40db-a3b4-4e0b61c5f200",
   "metadata": {},
   "source": [
    "## SHA-1"
   ]
  },
  {
   "cell_type": "code",
   "execution_count": 4,
   "id": "d991ec6a-a706-4d24-9e50-a91b7db5f149",
   "metadata": {},
   "outputs": [
    {
     "data": {
      "text/plain": [
       "b'a0e5cd812455e04d6e33646cd8dc17e05b674231'"
      ]
     },
     "execution_count": 4,
     "metadata": {},
     "output_type": "execute_result"
    }
   ],
   "source": [
    "binascii.hexlify(hashlib.sha1(msg).digest())"
   ]
  },
  {
   "cell_type": "markdown",
   "id": "dd2d69d8-8df8-494a-8299-e534c439cd22",
   "metadata": {},
   "source": [
    "## SHA-2"
   ]
  },
  {
   "cell_type": "code",
   "execution_count": 6,
   "id": "63986563-5e96-48ec-85b4-a60308c08da8",
   "metadata": {},
   "outputs": [
    {
     "data": {
      "text/plain": [
       "b'bacfd6a442d02b096f13baa3e2e11b1ca81e702351f0d3289b18592d'"
      ]
     },
     "execution_count": 6,
     "metadata": {},
     "output_type": "execute_result"
    }
   ],
   "source": [
    "binascii.hexlify(hashlib.sha224(msg).digest())"
   ]
  },
  {
   "cell_type": "code",
   "execution_count": 5,
   "id": "2304930a-b376-4629-b9bc-49f19ab54814",
   "metadata": {},
   "outputs": [
    {
     "data": {
      "text/plain": [
       "b'aedaac3e798149ebaec99435ea67f2ff1fc8b5cd2f3b039b885bdf8c04678c03'"
      ]
     },
     "execution_count": 5,
     "metadata": {},
     "output_type": "execute_result"
    }
   ],
   "source": [
    "binascii.hexlify(hashlib.sha256(msg).digest())"
   ]
  },
  {
   "cell_type": "code",
   "execution_count": 7,
   "id": "fbfe880b-31cf-435a-84fa-0c33915196f0",
   "metadata": {},
   "outputs": [
    {
     "data": {
      "text/plain": [
       "b'2c4cdb621cf134cc6d04c76012b3f8c06247463c95ce9f6158a8b2218f2e9ab323e111551c494e8b92bb95955df3913d'"
      ]
     },
     "execution_count": 7,
     "metadata": {},
     "output_type": "execute_result"
    }
   ],
   "source": [
    "binascii.hexlify(hashlib.sha384(msg).digest())"
   ]
  },
  {
   "cell_type": "code",
   "execution_count": 8,
   "id": "43aa1bd2-ca21-47f9-b23e-21adcca199cc",
   "metadata": {},
   "outputs": [
    {
     "data": {
      "text/plain": [
       "b'71062884a3882e5442aa9acaff2b570c3470431f60e868a4178cbd0460f71ac0d5a679f4647003d5b683a7c9091a49b1075c72dc63bbbc9aa461c3af9129ddd9'"
      ]
     },
     "execution_count": 8,
     "metadata": {},
     "output_type": "execute_result"
    }
   ],
   "source": [
    "binascii.hexlify(hashlib.sha512(msg).digest())"
   ]
  },
  {
   "cell_type": "markdown",
   "id": "312b473b-b964-4e76-a78e-7e9f7e988c85",
   "metadata": {},
   "source": [
    "## SHA-3"
   ]
  },
  {
   "cell_type": "code",
   "execution_count": 10,
   "id": "bebfe826-8f8f-4bb3-86ae-60347016c373",
   "metadata": {},
   "outputs": [
    {
     "data": {
      "text/plain": [
       "b'b6dd6f2e4082800cea403f7e387f80e2be1ee0ad6860ea5f6843dd45'"
      ]
     },
     "execution_count": 10,
     "metadata": {},
     "output_type": "execute_result"
    }
   ],
   "source": [
    "binascii.hexlify(hashlib.sha3_224(msg).digest())"
   ]
  },
  {
   "cell_type": "code",
   "execution_count": 11,
   "id": "fa2f1e8d-ba75-429f-8284-72771123f9fd",
   "metadata": {},
   "outputs": [
    {
     "data": {
      "text/plain": [
       "b'16c6f78ba37ae968b2602249278aad82aea653662b3e9583d598030f0fef5c4d'"
      ]
     },
     "execution_count": 11,
     "metadata": {},
     "output_type": "execute_result"
    }
   ],
   "source": [
    "binascii.hexlify(hashlib.sha3_256(msg).digest())"
   ]
  },
  {
   "cell_type": "code",
   "execution_count": 12,
   "id": "5caab881-4fc7-4285-a148-498ef6f09eb4",
   "metadata": {},
   "outputs": [
    {
     "data": {
      "text/plain": [
       "b'8e24b4f5a8c62208ee9161f4ff8bcfd9d0aced7a0ee8091ff74abf3f2058112c48d10e4fc6b4b037055579789ab18404'"
      ]
     },
     "execution_count": 12,
     "metadata": {},
     "output_type": "execute_result"
    }
   ],
   "source": [
    "binascii.hexlify(hashlib.sha3_384(msg).digest())"
   ]
  },
  {
   "cell_type": "code",
   "execution_count": 13,
   "id": "b70e92da-56ab-4bb5-bb2b-ef3a336f4c05",
   "metadata": {},
   "outputs": [
    {
     "data": {
      "text/plain": [
       "b'4e8c7f92a8e50c690ebfc01aca3e91d29fae439427aa979271d159f4a0bc4f741b3bab6144ecf36cacf21e23aa1720ce952fba1b8836dd7c819e4c6d73604b4a'"
      ]
     },
     "execution_count": 13,
     "metadata": {},
     "output_type": "execute_result"
    }
   ],
   "source": [
    "binascii.hexlify(hashlib.sha3_512(msg).digest())"
   ]
  },
  {
   "cell_type": "markdown",
   "id": "c0001a39-95fa-48f8-bea5-925c7911c1fb",
   "metadata": {},
   "source": [
    "# Zad 2"
   ]
  },
  {
   "cell_type": "code",
   "execution_count": 56,
   "id": "aaab90b4-0b79-4ee2-9cea-aa278d39d719",
   "metadata": {},
   "outputs": [],
   "source": [
    "import secrets\n",
    "import string\n",
    "import random\n",
    "from time import time\n",
    "import numpy as np"
   ]
  },
  {
   "cell_type": "code",
   "execution_count": 51,
   "id": "c74b2948-9633-4312-8aae-9eeeea52ff23",
   "metadata": {},
   "outputs": [],
   "source": [
    "alphabet = string.ascii_letters + string.digits"
   ]
  },
  {
   "cell_type": "code",
   "execution_count": 94,
   "id": "03506dd8-acfd-4f19-a8d6-39a99b1d1f3d",
   "metadata": {},
   "outputs": [],
   "source": [
    "passwords = [''.join(secrets.choice(alphabet) for i in range(x)).encode('windows-1250') for x in random.sample(list(range(10, 100)) * 100_000, 100_000)]"
   ]
  },
  {
   "cell_type": "code",
   "execution_count": 95,
   "id": "c24377d4-f2d0-4701-9ead-9c75700ac3ad",
   "metadata": {},
   "outputs": [],
   "source": [
    "functions = [\n",
    "    ('md5', hashlib.md5),\n",
    "    ('sha-1', hashlib.sha1),\n",
    "    ('sha-224', hashlib.sha224),\n",
    "    ('sha-256', hashlib.sha256),\n",
    "    ('sha-384', hashlib.sha384),\n",
    "    ('sha-512', hashlib.sha512),\n",
    "    ('sha-3-224', hashlib.sha3_224),\n",
    "    ('sha-3-256', hashlib.sha3_256),\n",
    "    ('sha-3-384', hashlib.sha3_384),\n",
    "    ('sha-3-512', hashlib.sha3_512)\n",
    "]"
   ]
  },
  {
   "cell_type": "code",
   "execution_count": 98,
   "id": "bccfba0c-f4a1-4ae0-acfd-dd1134277fa2",
   "metadata": {},
   "outputs": [],
   "source": [
    "result = []\n",
    "\n",
    "for function in functions:\n",
    "    start = time()\n",
    "    hashes = [function[1](x) for x in passwords]\n",
    "    stop = time()\n",
    "    hashes_lengths = np.array([len(binascii.hexlify(x.digest())) for x in hashes])\n",
    "    result.append([\n",
    "        function[0],\n",
    "        (stop - start) / len(hashes),\n",
    "        hashes_lengths.mean().item(),\n",
    "        hashes_lengths.std().item(),\n",
    "        np.median(hashes_lengths).item()\n",
    "    ])"
   ]
  },
  {
   "cell_type": "code",
   "execution_count": 99,
   "id": "c28fda0e-1b3d-4e59-8e39-7d82a39c80b9",
   "metadata": {},
   "outputs": [
    {
     "name": "stdout",
     "output_type": "stream",
     "text": [
      "name         mean time    mean len    len std dev    len median\n",
      "---------  -----------  ----------  -------------  ------------\n",
      "md5        8.17215e-07          32              0            32\n",
      "sha-1      4.66375e-07          40              0            40\n",
      "sha-224    5.00574e-07          56              0            56\n",
      "sha-256    6.01099e-07          64              0            64\n",
      "sha-384    4.47547e-07          96              0            96\n",
      "sha-512    4.25127e-07         128              0           128\n",
      "sha-3-224  4.96116e-07          56              0            56\n",
      "sha-3-256  5.98664e-07          64              0            64\n",
      "sha-3-384  5.71837e-07          96              0            96\n",
      "sha-3-512  6.30372e-07         128              0           128\n"
     ]
    }
   ],
   "source": [
    "from tabulate import tabulate\n",
    "\n",
    "print(tabulate(result, headers=['name', 'mean time', 'mean len', 'len std dev', 'len median']))"
   ]
  },
  {
   "cell_type": "markdown",
   "id": "2e7dd4da-7cc9-4ddc-b840-b63b6ae7dee8",
   "metadata": {},
   "source": [
    "# Zad 3"
   ]
  },
  {
   "cell_type": "code",
   "execution_count": 93,
   "id": "8f2201ed-72f9-4e0c-991a-8914d8cc3f75",
   "metadata": {},
   "outputs": [
    {
     "name": "stdout",
     "output_type": "stream",
     "text": [
      "b'098f6bcd4621d373cade4e832627b4f6'\n"
     ]
    }
   ],
   "source": [
    "hash_md5 = hashlib.md5(b'test')\n",
    "print(binascii.hexlify(hash_md5.digest()))"
   ]
  },
  {
   "cell_type": "code",
   "execution_count": null,
   "id": "d508953b-eef3-4eb1-8414-035e58fffd48",
   "metadata": {},
   "outputs": [],
   "source": []
  }
 ],
 "metadata": {
  "kernelspec": {
   "display_name": "Python 3 (ipykernel)",
   "language": "python",
   "name": "python3"
  },
  "language_info": {
   "codemirror_mode": {
    "name": "ipython",
    "version": 3
   },
   "file_extension": ".py",
   "mimetype": "text/x-python",
   "name": "python",
   "nbconvert_exporter": "python",
   "pygments_lexer": "ipython3",
   "version": "3.10.15"
  }
 },
 "nbformat": 4,
 "nbformat_minor": 5
}
